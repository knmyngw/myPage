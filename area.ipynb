{
  "nbformat": 4,
  "nbformat_minor": 0,
  "metadata": {
    "colab": {
      "provenance": [],
      "authorship_tag": "ABX9TyN41zlmWukVVb0QL+XgxYRd",
      "include_colab_link": true
    },
    "kernelspec": {
      "name": "python3",
      "display_name": "Python 3"
    },
    "language_info": {
      "name": "python"
    }
  },
  "cells": [
    {
      "cell_type": "markdown",
      "metadata": {
        "id": "view-in-github",
        "colab_type": "text"
      },
      "source": [
        "<a href=\"https://colab.research.google.com/github/knmyngw/myPage/blob/main/area.ipynb\" target=\"_parent\"><img src=\"https://colab.research.google.com/assets/colab-badge.svg\" alt=\"Open In Colab\"/></a>"
      ]
    },
    {
      "cell_type": "code",
      "source": [
        "#length as cm\n",
        "\n",
        "upper_side = 10\n",
        "lower_side = 20\n",
        "height = 5\n",
        "\n",
        "area = (upper_side + lower_side) * height / 2\n",
        "\n",
        "print(f'{area}cm²')\n"
      ],
      "metadata": {
        "id": "urL4POb6HlsS",
        "colab": {
          "base_uri": "https://localhost:8080/"
        },
        "outputId": "79dd03cd-a5b0-4a4d-8aab-380dfa5fcfc6"
      },
      "execution_count": null,
      "outputs": [
        {
          "output_type": "stream",
          "name": "stdout",
          "text": [
            "75.0cm²\n"
          ]
        }
      ]
    }
  ]
}